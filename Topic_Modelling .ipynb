{
 "cells": [
  {
   "cell_type": "code",
   "execution_count": 1,
   "id": "f06e7a8f",
   "metadata": {},
   "outputs": [
    {
     "name": "stderr",
     "output_type": "stream",
     "text": [
      "[nltk_data] Downloading package stopwords to\n",
      "[nltk_data]     C:\\Users\\punee\\AppData\\Roaming\\nltk_data...\n",
      "[nltk_data]   Package stopwords is already up-to-date!\n",
      "[nltk_data] Downloading package wordnet to\n",
      "[nltk_data]     C:\\Users\\punee\\AppData\\Roaming\\nltk_data...\n",
      "[nltk_data]   Package wordnet is already up-to-date!\n",
      "[nltk_data] Downloading package omw-1.4 to\n",
      "[nltk_data]     C:\\Users\\punee\\AppData\\Roaming\\nltk_data...\n",
      "[nltk_data]   Package omw-1.4 is already up-to-date!\n"
     ]
    },
    {
     "name": "stdout",
     "output_type": "stream",
     "text": [
      "Topic 0: set, box, red, retrospot, bottle, rose, hot, tea, water, heart\n",
      "Topic 1: heart, christmas, light, lunch, hanging, holder, small, box, decoration, set\n",
      "Topic 2: set, cake, vintage, tin, pack, case, design, red, dolly, girl\n",
      "Topic 3: metal, sign, white, wooden, heart, frame, antique, silver, blue, doormat\n",
      "Topic 4: bag, jumbo, red, polkadot, design, pink, card, retrospot, blue, set\n",
      "Topics assigned and saved to CSV.\n"
     ]
    }
   ],
   "source": [
    "\n",
    "import pandas as pd\n",
    "import numpy as np\n",
    "import re\n",
    "import nltk\n",
    "from nltk.corpus import stopwords\n",
    "from nltk.stem import WordNetLemmatizer\n",
    "from sklearn.feature_extraction.text import CountVectorizer\n",
    "from sklearn.decomposition import LatentDirichletAllocation\n",
    "\n",
    "nltk.download('stopwords')\n",
    "nltk.download('wordnet')\n",
    "nltk.download('omw-1.4')\n",
    "\n",
    "\n",
    "df = pd.read_csv(\"Data/Processed_data/regular_transactions.csv\")\n",
    "\n",
    "def preprocess_text(text):\n",
    "    text = text.lower()  \n",
    "    text = re.sub(r'[^a-z\\s]', ' ', text) \n",
    "    tokens = text.split()  \n",
    "    stop_words = set(stopwords.words('english'))\n",
    "    tokens = [word for word in tokens if word not in stop_words]  \n",
    "    lemmatizer = WordNetLemmatizer()\n",
    "    tokens = [lemmatizer.lemmatize(word) for word in tokens] \n",
    "    return ' '.join(tokens)\n",
    "\n",
    "df['ProductName_clean'] = df['ProductName'].apply(preprocess_text)\n",
    "\n",
    "vectorizer = CountVectorizer(max_df=0.95, min_df=2, stop_words='english')\n",
    "dtm = vectorizer.fit_transform(df['ProductName_clean'])\n",
    "\n",
    "# Fit LDA Model\n",
    "n_topics = 5\n",
    "lda_model = LatentDirichletAllocation(n_components=n_topics, random_state=42)\n",
    "lda_model.fit(dtm)\n",
    "\n",
    "# Assign topics to products\n",
    "topic_assignments = lda_model.transform(dtm)  # Get topic distribution for each product\n",
    "df['Topic'] = topic_assignments.argmax(axis=1)  # Assign most probable topic\n",
    "\n",
    "# Function to display topics\n",
    "def display_topics(model, feature_names, no_top_words):\n",
    "    topics = {}\n",
    "    for topic_idx, topic in enumerate(model.components_):\n",
    "        top_features = [feature_names[i] for i in topic.argsort()[:-no_top_words - 1:-1]]\n",
    "        topics[topic_idx] = top_features\n",
    "    return topics\n",
    "\n",
    "# Get top words for each topic\n",
    "no_top_words = 10\n",
    "feature_names = vectorizer.get_feature_names_out()\n",
    "topics = display_topics(lda_model, feature_names, no_top_words)\n",
    "\n",
    "# Print topics\n",
    "for topic_num, top_words in topics.items():\n",
    "    print(f'Topic {topic_num}: {\", \".join(top_words)}')\n",
    "\n",
    "# Save output CSV\n",
    "df.to_csv(\"Data/Processed_data/regular_transactions_with_topics.csv\", index=False)\n",
    "\n",
    "print(\"Topics assigned and saved to CSV.\")\n",
    "\n",
    " "
   ]
  },
  {
   "cell_type": "code",
   "execution_count": null,
   "id": "d36ba021",
   "metadata": {},
   "outputs": [],
   "source": []
  }
 ],
 "metadata": {
  "kernelspec": {
   "display_name": "Python 3 (ipykernel)",
   "language": "python",
   "name": "python3"
  },
  "language_info": {
   "codemirror_mode": {
    "name": "ipython",
    "version": 3
   },
   "file_extension": ".py",
   "mimetype": "text/x-python",
   "name": "python",
   "nbconvert_exporter": "python",
   "pygments_lexer": "ipython3",
   "version": "3.11.5"
  }
 },
 "nbformat": 4,
 "nbformat_minor": 5
}
